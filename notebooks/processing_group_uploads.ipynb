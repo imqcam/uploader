{
 "cells": [
  {
   "cell_type": "code",
   "execution_count": 1,
   "metadata": {},
   "outputs": [],
   "source": [
    "# imports\n",
    "import os, re, json, pathlib\n",
    "from imqcam_uploaders.uploaders.file_uploader import IMQCAMFileUploader\n",
    "# add the box API stuff"
   ]
  },
  {
   "cell_type": "code",
   "execution_count": null,
   "metadata": {},
   "outputs": [],
   "source": [
    "# constants\n",
    "COLLECTION_NAME = \"Processing\"\n",
    "GIRDER_FOLDER_NAME = pathlib.Path(\"TBD\")\n",
    "GIRDER_API_URL = \"https://data.imqcam.org/api/v1\"\n",
    "GIRDER_API_KEY = os.getenv(\"IMQCAM_API_KEY\") # this env var needs to be set on your system\n",
    "METADATA_REGEX = \"^.*\" # edit this\n",
    "# add others for, like, the location on Box or whatever and auth etc.\n"
   ]
  },
  {
   "cell_type": "code",
   "execution_count": null,
   "metadata": {},
   "outputs": [],
   "source": [
    "# Create the file uploader object\n",
    "uploader = IMQCAMFileUploader(GIRDER_API_URL, GIRDER_API_KEY)"
   ]
  },
  {
   "cell_type": "code",
   "execution_count": null,
   "metadata": {},
   "outputs": [],
   "source": [
    "def upload_single_file(filename, file_bytestream):\n",
    "    # write the file out to disk\n",
    "    temp_filepath = pathlib.Path() / filename\n",
    "    with open(temp_filepath, \"w\") as tfp:\n",
    "        tfp.write(file_bytestream.read())\n",
    "    # parse the filename from box to extract metadata\n",
    "    metadata_match = re.match(METADATA_REGEX, filename)\n",
    "    # convert to a json-formatted string\n",
    "    metadata_dict = {\"key1\": \"value1\"}\n",
    "    metadata_str = json.dumps(metadata_dict)\n",
    "    # upload the file and assocate metadata with it\n",
    "    uploader.upload_file(\n",
    "        temp_filepath,\n",
    "        metadata_str,\n",
    "        collection_name=COLLECTION_NAME,\n",
    "        root_folder_path=GIRDER_FOLDER_NAME,\n",
    "    )\n",
    "    # delete the temporary file\n",
    "    temp_filepath.unlink()"
   ]
  },
  {
   "cell_type": "code",
   "execution_count": null,
   "metadata": {},
   "outputs": [],
   "source": [
    "# use the Box API to get a list of all of the files\n",
    "filenames = box_api_call() #this is a list\n",
    "\n",
    "# loop over the files, read them from Box, and call the uploader function\n",
    "for filename in filenames:\n",
    "    file_bytestream = box_api_call_to_get_bytestream(filename)\n",
    "    upload_single_file(filename, file_bytestream)"
   ]
  }
 ],
 "metadata": {
  "kernelspec": {
   "display_name": "imqcam-uploaders",
   "language": "python",
   "name": "python3"
  },
  "language_info": {
   "codemirror_mode": {
    "name": "ipython",
    "version": 3
   },
   "file_extension": ".py",
   "mimetype": "text/x-python",
   "name": "python",
   "nbconvert_exporter": "python",
   "pygments_lexer": "ipython3",
   "version": "3.12.1"
  }
 },
 "nbformat": 4,
 "nbformat_minor": 2
}
